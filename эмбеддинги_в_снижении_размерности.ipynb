{
  "nbformat": 4,
  "nbformat_minor": 0,
  "metadata": {
    "colab": {
      "name": "САД NLP 3 | эмбеддинги в снижении размерности.ipynb",
      "provenance": [],
      "include_colab_link": true
    },
    "kernelspec": {
      "name": "python3",
      "display_name": "Python 3"
    }
  },
  "cells": [
    {
      "cell_type": "markdown",
      "metadata": {
        "id": "view-in-github",
        "colab_type": "text"
      },
      "source": [
        "<a href=\"https://colab.research.google.com/github/oserikov/data-science-nlp/blob/master/%D1%8D%D0%BC%D0%B1%D0%B5%D0%B4%D0%B4%D0%B8%D0%BD%D0%B3%D0%B8_%D0%B2_%D1%81%D0%BD%D0%B8%D0%B6%D0%B5%D0%BD%D0%B8%D0%B8_%D1%80%D0%B0%D0%B7%D0%BC%D0%B5%D1%80%D0%BD%D0%BE%D1%81%D1%82%D0%B8.ipynb\" target=\"_parent\"><img src=\"https://colab.research.google.com/assets/colab-badge.svg\" alt=\"Open In Colab\"/></a>"
      ]
    },
    {
      "cell_type": "code",
      "metadata": {
        "id": "gkNwf33F71ze",
        "colab_type": "code",
        "outputId": "87bababe-f602-4df8-dddd-fa91c63730a4",
        "colab": {
          "base_uri": "https://localhost:8080/",
          "height": 617
        }
      },
      "source": [
        "!wget https://raw.githubusercontent.com/oserikov/data-science-nlp/master/data/rus_stopwords.txt\n",
        "!wget https://raw.githubusercontent.com/oserikov/data-science-nlp/master/data/polkrug_lem.txt\n",
        "!wget https://rusvectores.org/static/models/news_upos_cbow_300_2_2017.bin.gz\n",
        "!gunzip news_upos_cbow_300_2_2017.bin.gz\n"
      ],
      "execution_count": 0,
      "outputs": [
        {
          "output_type": "stream",
          "text": [
            "--2019-10-29 19:41:22--  https://raw.githubusercontent.com/oserikov/data-science-nlp/master/data/rus_stopwords.txt\n",
            "Resolving raw.githubusercontent.com (raw.githubusercontent.com)... 151.101.0.133, 151.101.64.133, 151.101.128.133, ...\n",
            "Connecting to raw.githubusercontent.com (raw.githubusercontent.com)|151.101.0.133|:443... connected.\n",
            "HTTP request sent, awaiting response... 200 OK\n",
            "Length: 4322 (4.2K) [text/plain]\n",
            "Saving to: ‘rus_stopwords.txt’\n",
            "\n",
            "\rrus_stopwords.txt     0%[                    ]       0  --.-KB/s               \rrus_stopwords.txt   100%[===================>]   4.22K  --.-KB/s    in 0s      \n",
            "\n",
            "2019-10-29 19:41:22 (91.6 MB/s) - ‘rus_stopwords.txt’ saved [4322/4322]\n",
            "\n",
            "--2019-10-29 19:41:24--  https://raw.githubusercontent.com/oserikov/data-science-nlp/master/data/polkrug_lem.txt\n",
            "Resolving raw.githubusercontent.com (raw.githubusercontent.com)... 151.101.0.133, 151.101.64.133, 151.101.128.133, ...\n",
            "Connecting to raw.githubusercontent.com (raw.githubusercontent.com)|151.101.0.133|:443... connected.\n",
            "HTTP request sent, awaiting response... 200 OK\n",
            "Length: 18267211 (17M) [text/plain]\n",
            "Saving to: ‘polkrug_lem.txt’\n",
            "\n",
            "polkrug_lem.txt     100%[===================>]  17.42M   104MB/s    in 0.2s    \n",
            "\n",
            "2019-10-29 19:41:24 (104 MB/s) - ‘polkrug_lem.txt’ saved [18267211/18267211]\n",
            "\n",
            "--2019-10-29 19:41:25--  https://rusvectores.org/static/models/news_upos_cbow_300_2_2017.bin.gz\n",
            "Resolving rusvectores.org (rusvectores.org)... 116.203.104.23\n",
            "Connecting to rusvectores.org (rusvectores.org)|116.203.104.23|:443... connected.\n",
            "HTTP request sent, awaiting response... 200 OK\n",
            "Length: 140310878 (134M) [application/x-gzip]\n",
            "Saving to: ‘news_upos_cbow_300_2_2017.bin.gz’\n",
            "\n",
            "news_upos_cbow_300_ 100%[===================>] 133.81M  26.5MB/s    in 6.0s    \n",
            "\n",
            "2019-10-29 19:41:32 (22.3 MB/s) - ‘news_upos_cbow_300_2_2017.bin.gz’ saved [140310878/140310878]\n",
            "\n"
          ],
          "name": "stdout"
        }
      ]
    },
    {
      "cell_type": "code",
      "metadata": {
        "id": "SK6DGwrlA6LF",
        "colab_type": "code",
        "outputId": "645062b9-327b-4669-c12d-259c59fbeccd",
        "colab": {
          "base_uri": "https://localhost:8080/",
          "height": 230
        }
      },
      "source": [
        "!pip install pymorphy2"
      ],
      "execution_count": 0,
      "outputs": [
        {
          "output_type": "stream",
          "text": [
            "Collecting pymorphy2\n",
            "\u001b[?25l  Downloading https://files.pythonhosted.org/packages/a3/33/fff9675c68b5f6c63ec8c6e6ff57827dda28a1fa5b2c2d727dffff92dd47/pymorphy2-0.8-py2.py3-none-any.whl (46kB)\n",
            "\u001b[K     |████████████████████████████████| 51kB 1.6MB/s \n",
            "\u001b[?25hCollecting pymorphy2-dicts<3.0,>=2.4\n",
            "\u001b[?25l  Downloading https://files.pythonhosted.org/packages/02/51/2465fd4f72328ab50877b54777764d928da8cb15b74e2680fc1bd8cb3173/pymorphy2_dicts-2.4.393442.3710985-py2.py3-none-any.whl (7.1MB)\n",
            "\u001b[K     |████████████████████████████████| 7.1MB 8.5MB/s \n",
            "\u001b[?25hCollecting dawg-python>=0.7\n",
            "  Downloading https://files.pythonhosted.org/packages/6a/84/ff1ce2071d4c650ec85745766c0047ccc3b5036f1d03559fd46bb38b5eeb/DAWG_Python-0.7.2-py2.py3-none-any.whl\n",
            "Requirement already satisfied: docopt>=0.6 in /usr/local/lib/python3.6/dist-packages (from pymorphy2) (0.6.2)\n",
            "Installing collected packages: pymorphy2-dicts, dawg-python, pymorphy2\n",
            "Successfully installed dawg-python-0.7.2 pymorphy2-0.8 pymorphy2-dicts-2.4.393442.3710985\n"
          ],
          "name": "stdout"
        }
      ]
    },
    {
      "cell_type": "code",
      "metadata": {
        "id": "d0qBg7RI_BZU",
        "colab_type": "code",
        "colab": {}
      },
      "source": [
        "import umap\n",
        "import pymorphy2\n",
        "import gensim\n",
        "import numpy as np\n",
        "from matplotlib import pyplot as plt"
      ],
      "execution_count": 0,
      "outputs": []
    },
    {
      "cell_type": "code",
      "metadata": {
        "id": "uBIS64XJ-_nD",
        "colab_type": "code",
        "outputId": "6513ebd0-7bb4-4f59-83cf-75786bde6889",
        "colab": {
          "base_uri": "https://localhost:8080/",
          "height": 1000
        }
      },
      "source": [
        "\n",
        "polkrug_texts = [line for line in open('polkrug_lem.txt', 'r', encoding='utf-8')][:10000]\n",
        "w2v_model = gensim.models.KeyedVectors.load_word2vec_format(\"news_upos_cbow_300_2_2017.bin\", binary=True)\n",
        "\n",
        "\n",
        "morph_analyzer =  pymorphy2.MorphAnalyzer()\n",
        "polkrug_texts_vectorized = []\n",
        "for text_idx, text in enumerate(polkrug_texts):\n",
        "    text_vs = []\n",
        "    for word in text.split():\n",
        "        pos_tag = morph_analyzer.parse(word)[0].tag.POS\n",
        "        pos_tagged_word = f\"{word}_{pos_tag}\"\n",
        "        if word.isalpha() and pos_tagged_word in w2v_model:\n",
        "            word_v = w2v_model.get_vector(pos_tagged_word)\n",
        "            # print(f\"found {pos_tagged_word}\")\n",
        "            text_vs.append(word_v)\n",
        "    if text_vs:\n",
        "        text_v = np.mean(np.array(text_vs), axis=0)\n",
        "        polkrug_texts_vectorized.append((text, text_v))\n",
        "    if text_idx % 100 == 0:\n",
        "        print(f\"processed {str(text_idx)} of {str(len(polkrug_texts))}\")\n",
        "\n",
        "print(\"calculated all the document vectors\")\n",
        "\n",
        "umap_emb = umap.UMAP()\n",
        "X_2D_umap = umap_emb.fit_transform([e[1] for e in polkrug_texts_vectorized])\n",
        "\n",
        "for i in range(2):\n",
        "    plt.scatter(X_2D_umap[i:,0], X_2D_umap[i:,1])"
      ],
      "execution_count": 0,
      "outputs": [
        {
          "output_type": "stream",
          "text": [
            "/usr/local/lib/python3.6/dist-packages/smart_open/smart_open_lib.py:398: UserWarning: This function is deprecated, use smart_open.open instead. See the migration notes for details: https://github.com/RaRe-Technologies/smart_open/blob/master/README.rst#migrating-to-the-new-open-function\n",
            "  'See the migration notes for details: %s' % _MIGRATION_NOTES_URL\n"
          ],
          "name": "stderr"
        },
        {
          "output_type": "stream",
          "text": [
            "processed 0 of 10000\n",
            "processed 100 of 10000\n",
            "processed 200 of 10000\n",
            "processed 300 of 10000\n",
            "processed 400 of 10000\n",
            "processed 500 of 10000\n",
            "processed 600 of 10000\n",
            "processed 700 of 10000\n",
            "processed 800 of 10000\n",
            "processed 900 of 10000\n",
            "processed 1000 of 10000\n",
            "processed 1100 of 10000\n",
            "processed 1200 of 10000\n",
            "processed 1300 of 10000\n",
            "processed 1400 of 10000\n",
            "processed 1500 of 10000\n",
            "processed 1600 of 10000\n",
            "processed 1700 of 10000\n",
            "processed 1800 of 10000\n",
            "processed 1900 of 10000\n",
            "processed 2000 of 10000\n",
            "processed 2100 of 10000\n",
            "processed 2200 of 10000\n",
            "processed 2300 of 10000\n",
            "processed 2400 of 10000\n",
            "processed 2500 of 10000\n",
            "processed 2600 of 10000\n",
            "processed 2700 of 10000\n",
            "processed 2800 of 10000\n",
            "processed 2900 of 10000\n",
            "processed 3000 of 10000\n",
            "processed 3100 of 10000\n",
            "processed 3200 of 10000\n",
            "processed 3300 of 10000\n",
            "processed 3400 of 10000\n",
            "processed 3500 of 10000\n",
            "processed 3600 of 10000\n",
            "processed 3700 of 10000\n",
            "processed 3800 of 10000\n",
            "processed 3900 of 10000\n",
            "processed 4000 of 10000\n",
            "processed 4100 of 10000\n",
            "processed 4200 of 10000\n",
            "processed 4300 of 10000\n",
            "processed 4400 of 10000\n",
            "processed 4500 of 10000\n",
            "processed 4600 of 10000\n",
            "processed 4700 of 10000\n",
            "processed 4800 of 10000\n",
            "processed 4900 of 10000\n",
            "processed 5000 of 10000\n",
            "processed 5100 of 10000\n",
            "processed 5200 of 10000\n",
            "processed 5300 of 10000\n",
            "processed 5400 of 10000\n",
            "processed 5500 of 10000\n",
            "processed 5600 of 10000\n",
            "processed 5700 of 10000\n",
            "processed 5800 of 10000\n",
            "processed 5900 of 10000\n",
            "processed 6000 of 10000\n",
            "processed 6100 of 10000\n",
            "processed 6200 of 10000\n",
            "processed 6300 of 10000\n",
            "processed 6400 of 10000\n",
            "processed 6500 of 10000\n",
            "processed 6600 of 10000\n",
            "processed 6700 of 10000\n",
            "processed 6800 of 10000\n",
            "processed 6900 of 10000\n",
            "processed 7000 of 10000\n",
            "processed 7100 of 10000\n",
            "processed 7200 of 10000\n",
            "processed 7300 of 10000\n",
            "processed 7400 of 10000\n",
            "processed 7500 of 10000\n",
            "processed 7600 of 10000\n",
            "processed 7700 of 10000\n",
            "processed 7800 of 10000\n",
            "processed 7900 of 10000\n",
            "processed 8000 of 10000\n",
            "processed 8100 of 10000\n",
            "processed 8200 of 10000\n",
            "processed 8300 of 10000\n",
            "processed 8400 of 10000\n",
            "processed 8500 of 10000\n",
            "processed 8600 of 10000\n",
            "processed 8700 of 10000\n",
            "processed 8800 of 10000\n",
            "processed 8900 of 10000\n",
            "processed 9000 of 10000\n",
            "processed 9100 of 10000\n",
            "processed 9200 of 10000\n",
            "processed 9300 of 10000\n",
            "processed 9400 of 10000\n",
            "processed 9500 of 10000\n",
            "processed 9600 of 10000\n",
            "processed 9700 of 10000\n",
            "processed 9800 of 10000\n",
            "processed 9900 of 10000\n",
            "calculated all the document vectors\n"
          ],
          "name": "stdout"
        },
        {
          "output_type": "display_data",
          "data": {
            "image/png": "[encoded data removed]",
            "text/plain": [
              "<Figure size 432x288 with 1 Axes>"
            ]
          },
          "metadata": {
            "tags": []
          }
        }
      ]
    }
  ]
}